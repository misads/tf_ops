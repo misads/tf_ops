{
 "cells": [
  {
   "cell_type": "markdown",
   "metadata": {},
   "source": [
    "# How to use build-in functions in a class"
   ]
  },
  {
   "cell_type": "code",
   "execution_count": 1,
   "metadata": {},
   "outputs": [],
   "source": [
    "class DataLoader(object):\n",
    "    def __init__(self, name):\n",
    "        self._name = name\n",
    "        self._data = []\n",
    "\n",
    "    def __repr__(self):\n",
    "        return 'This is %s.' % self._name\n",
    " \n",
    "    def __call__(self, a):\n",
    "        # Shells like IDLE catch the SystemExit, but listen when their\n",
    "        # stdin wrapper is closed.\n",
    "        self._data.append(a)\n",
    "    \n",
    "    def __getitem__(self, index):\n",
    "        if index < len(self._data):\n",
    "            return self._data[index]\n",
    "        else:\n",
    "            return None\n",
    "        \n",
    "    def __len__(self):\n",
    "        return len(self._data)"
   ]
  },
  {
   "cell_type": "code",
   "execution_count": 2,
   "metadata": {},
   "outputs": [
    {
     "name": "stdout",
     "output_type": "stream",
     "text": [
      "This is a.\n"
     ]
    }
   ],
   "source": [
    "a = DataLoader('a')\n",
    "print(a)"
   ]
  },
  {
   "cell_type": "code",
   "execution_count": 3,
   "metadata": {},
   "outputs": [
    {
     "name": "stdout",
     "output_type": "stream",
     "text": [
      "3\n"
     ]
    }
   ],
   "source": [
    "a(1)  # add 1 to dataset\n",
    "a(2)  # add 2 to dataset\n",
    "a(3)  # add 3 to dataset\n",
    "print(len(a))"
   ]
  },
  {
   "cell_type": "code",
   "execution_count": 4,
   "metadata": {},
   "outputs": [
    {
     "name": "stdout",
     "output_type": "stream",
     "text": [
      "1\n"
     ]
    }
   ],
   "source": [
    "print(a[0])"
   ]
  },
  {
   "cell_type": "code",
   "execution_count": null,
   "metadata": {},
   "outputs": [],
   "source": []
  }
 ],
 "metadata": {
  "kernelspec": {
   "display_name": "Python 3",
   "language": "python",
   "name": "python3"
  },
  "language_info": {
   "codemirror_mode": {
    "name": "ipython",
    "version": 3
   },
   "file_extension": ".py",
   "mimetype": "text/x-python",
   "name": "python",
   "nbconvert_exporter": "python",
   "pygments_lexer": "ipython3",
   "version": "3.5.2"
  }
 },
 "nbformat": 4,
 "nbformat_minor": 2
}
